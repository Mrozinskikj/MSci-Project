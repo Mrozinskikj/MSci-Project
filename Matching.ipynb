{
 "cells": [
  {
   "cell_type": "code",
   "execution_count": 90,
   "metadata": {},
   "outputs": [],
   "source": [
    "import os\n",
    "import librosa\n",
    "import librosa.display\n",
    "import IPython.display as ipd\n",
    "from IPython.display import display\n",
    "import numpy as np\n",
    "import matplotlib.pyplot as plt\n",
    "import math\n",
    "from seaborn import heatmap\n",
    "import seaborn as sns\n",
    "from matplotlib import transforms\n",
    "from skimage import metrics\n",
    "import statistics\n",
    "import copy\n",
    "from scipy import optimize"
   ]
  },
  {
   "cell_type": "code",
   "execution_count": 91,
   "metadata": {},
   "outputs": [],
   "source": [
    "def importAudio(target, reference, output=True):\n",
    "    if(output):\n",
    "        display(ipd.Audio(target))\n",
    "        display(ipd.Audio(reference))\n",
    "\n",
    "    tArray, tSampleRate = librosa.load(target)\n",
    "    rArray, rSampleRate = librosa.load(reference)\n",
    "\n",
    "    tSTFT = librosa.stft(tArray, n_fft=frameSize, hop_length=hopSize)\n",
    "    rSTFT = librosa.stft(rArray, n_fft=frameSize, hop_length=hopSize)\n",
    "\n",
    "    tDFT = librosa.stft(tArray, n_fft=frameSize, hop_length=10000000000)\n",
    "    rDFT = librosa.stft(rArray, n_fft=frameSize, hop_length=10000000000)\n",
    "    \n",
    "    return ({\"STFT\":tSTFT,\"DFT\":tDFT,\"sampleRate\":tSampleRate},{\"STFT\":rSTFT,\"DFT\":rDFT,\"sampleRate\":rSampleRate})"
   ]
  },
  {
   "cell_type": "code",
   "execution_count": 92,
   "metadata": {},
   "outputs": [],
   "source": [
    "def exportAudio(tAudio, mAudio, rAudio):\n",
    "    print(\"Target\")\n",
    "    tInverse = librosa.istft(tAudio[\"STFT\"],n_fft=frameSize, hop_length=hopSize)\n",
    "    display(ipd.Audio(tInverse, rate=tAudio[\"sampleRate\"]))\n",
    "\n",
    "    print(\"Matched\")\n",
    "    mInverse = librosa.istft(mAudio[\"STFT\"],n_fft=frameSize, hop_length=hopSize)\n",
    "    display(ipd.Audio(mInverse, rate=mAudio[\"sampleRate\"]))\n",
    "\n",
    "    print(\"Reference\")\n",
    "    rInverse = librosa.istft(rAudio[\"STFT\"],n_fft=frameSize, hop_length=hopSize)\n",
    "    display(ipd.Audio(rInverse, rate=rAudio[\"sampleRate\"]))"
   ]
  },
  {
   "cell_type": "code",
   "execution_count": 93,
   "metadata": {},
   "outputs": [],
   "source": [
    "def plotSpectrogram(tAudio, mAudio, rAudio):\n",
    "\n",
    "    maximum = (max(np.max(np.abs(tAudio[\"STFT\"])**2), np.max(np.abs(rAudio[\"STFT\"])**2)))\n",
    "    \n",
    "    # derives the spectrogram from the STFT\n",
    "    tSpectrogram = librosa.power_to_db(np.abs(tAudio[\"STFT\"])**2, ref=np.max)\n",
    "    mSpectrogram = librosa.power_to_db(np.abs(mAudio[\"STFT\"])**2, ref=np.max)\n",
    "    rSpectrogram = librosa.power_to_db(np.abs(rAudio[\"STFT\"])**2, ref=np.max)\n",
    "\n",
    "    # creates plots of spectrograms\n",
    "    fig, ax = plt.subplots(nrows=3, ncols=1, sharex=True, figsize=(10*figScale, 5*figScale))\n",
    "    tImg = librosa.display.specshow(tSpectrogram,sr=tAudio[\"sampleRate\"],hop_length=hopSize,x_axis=\"time\",y_axis=\"mel\",cmap=\"magma\",ax=ax[0])\n",
    "    mImg = librosa.display.specshow(mSpectrogram,sr=mAudio[\"sampleRate\"],hop_length=hopSize,x_axis=\"time\",y_axis=\"mel\",cmap=\"magma\",ax=ax[1])\n",
    "    rImg = librosa.display.specshow(rSpectrogram,sr=rAudio[\"sampleRate\"],hop_length=hopSize,x_axis=\"time\",y_axis=\"mel\",cmap=\"magma\",ax=ax[2])\n",
    "\n",
    "    # adjusts appearance\n",
    "    ax[0].set(title='Target')\n",
    "    ax[1].set(title='Matched')\n",
    "    ax[2].set(title='Reference')\n",
    "    for ax_i in ax:\n",
    "        ax_i.label_outer()\n",
    "    fig.colorbar(mImg, ax=[ax[0], ax[1], ax[2]],format='%+2.0f dB')\n"
   ]
  },
  {
   "attachments": {},
   "cell_type": "markdown",
   "metadata": {},
   "source": [
    "<h3>Matching based on gain average of frequency bands</h3>"
   ]
  },
  {
   "cell_type": "code",
   "execution_count": 94,
   "metadata": {},
   "outputs": [],
   "source": [
    "def plotCurve(tCurve,tCurveSmooth,rCurve,rCurveSmooth,mCurve):\n",
    "    plt.figure(figsize=(10*figScale,5*figScale))\n",
    "\n",
    "    plt.plot(20*np.log10(tCurve), alpha=0.2, color='blue', label=\"Target\")\n",
    "    plt.plot(20*np.log10(tCurveSmooth), color='blue', label=\"Convolved Target\")\n",
    "\n",
    "    plt.plot(20*np.log10(rCurve), alpha=0.2, color='red', label=\"Reference\")\n",
    "    plt.plot(20*np.log10(rCurveSmooth), color='red', label=\"Convolved Reference\")\n",
    "\n",
    "    plt.plot(20*np.log10(mCurve), color='green', label=\"Matched\")\n",
    "    \n",
    "    plt.xlabel(\"Frequency Bin\")\n",
    "    plt.ylabel(\"Gain (dB)\")\n",
    "    plt.legend()"
   ]
  },
  {
   "cell_type": "code",
   "execution_count": 95,
   "metadata": {},
   "outputs": [],
   "source": [
    "def convolve(curve, smoothing):\n",
    "    curve = np.ravel(curve)\n",
    "    kernel = np.ones(smoothing) / smoothing\n",
    "    curve = np.convolve(curve, kernel, mode='same')\n",
    "    curve = curve.reshape(len(curve),1)\n",
    "    return curve\n",
    "\n",
    "def EQMatching(tAudio, rAudio, smoothing=1, plot=True):\n",
    "    tCurve = np.abs(tAudio[\"DFT\"])\n",
    "    tCurveSmooth = convolve(tCurve, smoothing)\n",
    "\n",
    "    rCurve = np.abs(rAudio[\"DFT\"])\n",
    "    rCurveSmooth = convolve(rCurve, smoothing)\n",
    "\n",
    "    scaler = rCurveSmooth / tCurveSmooth\n",
    "    \n",
    "    mSTFT = tAudio[\"STFT\"] * scaler\n",
    "    mDFT = tAudio[\"DFT\"] * scaler\n",
    "    mAudio = {\"STFT\":mSTFT,\"DFT\":mDFT,\"sampleRate\":tAudio[\"sampleRate\"]}\n",
    "\n",
    "    if(plot):\n",
    "        mCurve = np.abs(mDFT)\n",
    "        plotCurve(tCurve,tCurveSmooth,rCurve,rCurveSmooth,mCurve)\n",
    "    \n",
    "    return mAudio"
   ]
  },
  {
   "cell_type": "code",
   "execution_count": 153,
   "metadata": {},
   "outputs": [],
   "source": [
    "# Plots a given frequency bin of target, matched, and reference audio, along with its dynamic response historgram\n",
    "def plotDynamics(tSlice,rSlice,dynamicBins, matched=False):\n",
    "    # abs\n",
    "    tSlice = np.abs(tSlice)\n",
    "    rSlice = np.abs(rSlice)\n",
    "\n",
    "    # gets dynamic response historgram of target and reference\n",
    "    tDynamicResponse, rDynamicResponse = getDynamicResponse(tSlice, rSlice, dynamicBins)\n",
    "\n",
    "    bins = (tSlice, rSlice)\n",
    "    dynamicResponse = (tDynamicResponse, rDynamicResponse)\n",
    "\n",
    "    # plot\n",
    "    fig, ax = plt.subplots(nrows=2, ncols=2, sharex='col', sharey='col', figsize=(10*figScale, 3*figScale), gridspec_kw={'width_ratios': [8, 1]})\n",
    "    \n",
    "    for i in range(2):\n",
    "        ax[i,0].plot(bins[i])\n",
    "        \n",
    "        tr = transforms.Affine2D().rotate_deg(90)\n",
    "        reshape = np.flip(dynamicResponse[i].reshape(dynamicResponse[i].shape[0], 1))\n",
    "        sns = heatmap(reshape, ax=ax[i,1], cmap=\"magma\")\n",
    "        ax[i,1].set_xticks([])\n",
    "        ax[i,1].set_yticks([])\n",
    "        ax[i,0].set_ylabel(\"Level\")\n",
    "        ax[i,0].set_xlabel(\"Frame\")\n",
    "        fig.tight_layout(rect=[0, 0, .9, 1])\n",
    "    \n",
    "    # adjusts appearance\n",
    "    for ax_i in ax:\n",
    "        ax_i[0].label_outer()\n",
    "    if(not matched):\n",
    "        ax[0,0].set(title='Target')\n",
    "    else:\n",
    "        ax[0,0].set(title='Matched')\n",
    "    ax[1,0].set(title='Reference')"
   ]
  },
  {
   "cell_type": "code",
   "execution_count": 143,
   "metadata": {},
   "outputs": [],
   "source": [
    "# Calculate the dynamic response historgrams, used for calculating loss of frequency bins\n",
    "def getDynamicResponse(tFreqBin, rFreqBin, dynamicBins):\n",
    "    # abs\n",
    "    tAbs = np.abs(tFreqBin)\n",
    "    rAbs = np.abs(rFreqBin)\n",
    "\n",
    "    # The minimum and maximum gain values across target and reference combined\n",
    "    dynamicRange = (min(min(tAbs),min(rAbs)), max(max(tAbs),max(rAbs)))\n",
    "\n",
    "    # Histograms of how commonly certain gain ranges occur, in dB\n",
    "    tDynamicResponse = np.histogram(tAbs,bins=dynamicBins,range=dynamicRange)[0]\n",
    "    rDynamicResponse = np.histogram(rAbs,bins=dynamicBins,range=dynamicRange)[0]\n",
    "\n",
    "    return tDynamicResponse, rDynamicResponse\n",
    "\n",
    "# Calculate loss between two dynamic responses\n",
    "def getDistance(tDynamicResponse, rDynamicResponse, tMax, rMax):\n",
    "    A = tDynamicResponse / sum(tDynamicResponse)\n",
    "    B = rDynamicResponse / sum(rDynamicResponse)\n",
    "    \n",
    "    n = len(A)\n",
    "    dist = np.zeros(n)\n",
    "    for x in range(n-1):\n",
    "        dist[x+1] = A[x]-B[x]+dist[x]\n",
    "    wasserstein = np.sum(abs(dist))\n",
    "\n",
    "    if(tMax > rMax):\n",
    "        wasserstein = wasserstein * (tMax / rMax)\n",
    "    return wasserstein\n",
    "\n",
    "# Warp the dynamics of a frequency bin by applying a polynomial equation\n",
    "def warp(bin,coeff):\n",
    "    warped = np.zeros_like(bin)\n",
    "    for i in range(len(coeff)):\n",
    "        component = coeff[i] * (bin*(np.abs(bin)**i))\n",
    "        warped += component\n",
    "    \n",
    "    return warped"
   ]
  },
  {
   "cell_type": "code",
   "execution_count": 98,
   "metadata": {},
   "outputs": [],
   "source": [
    "def matchBin(tSlice, rSlice, dynamicBins, tempscaler=[None]):\n",
    "    tDynamicResponse, rDynamicReponse = getDynamicResponse(tSlice,rSlice,dynamicBins)\n",
    "    tMax = max(np.abs(tSlice))\n",
    "    rMax = max(np.abs(rSlice))\n",
    "    distance = getDistance(tDynamicResponse,rDynamicReponse,tMax,rMax)\n",
    "    \n",
    "    tAvg = statistics.mean(np.abs(tSlice))\n",
    "    rAvg = statistics.mean(np.abs(rSlice))\n",
    "    scaler = rAvg / tAvg\n",
    "    \n",
    "    if(tempscaler[0]==None):\n",
    "        mSlice = warp(tSlice, [scaler])\n",
    "    else:\n",
    "        mSlice = warp(tSlice, tempscaler)\n",
    "    #warpedBin = warp(tSlice, [7.2,-19,17.5])\n",
    "\n",
    "    return mSlice\n",
    "\n",
    "\n",
    "def dynamicMatching(tAudio,rAudio,dynamicBins, plotBin, tempscaler=[None]):\n",
    "    tDynamicResponse, rDynamicReponse = getDynamicResponse(tAudio[\"STFT\"][plotBin,:],rAudio[\"STFT\"][plotBin,:],dynamicBins)\n",
    "    tMax = max(np.abs(tAudio[\"STFT\"][plotBin,:]))\n",
    "    rMax = max(np.abs(rAudio[\"STFT\"][plotBin,:]))\n",
    "    preDist = getDistance(tDynamicResponse, rDynamicReponse,tMax,rMax)\n",
    "    print(\"unmatched distance:\",preDist)\n",
    "    plotDynamics(tAudio, rAudio, dynamicBins, plotBin, matched=False)\n",
    "\n",
    "    # Matching happens on a copied version of the target, to ensure the original target is preserved\n",
    "    mAudio = copy.deepcopy(tAudio)\n",
    "\n",
    "    for bin in range(len(rAudio[\"STFT\"])):\n",
    "        tSlice = tAudio[\"STFT\"][bin,:]\n",
    "        rSlice = rAudio[\"STFT\"][bin,:]\n",
    "\n",
    "        mSlice = matchBin(tSlice, rSlice, dynamicBins, tempscaler)\n",
    "        mAudio[\"STFT\"][bin,:] = mSlice\n",
    "    \n",
    "    mDynamicResponse, rDynamicReponse = getDynamicResponse(mAudio[\"STFT\"][plotBin,:],rAudio[\"STFT\"][plotBin,:],dynamicBins)\n",
    "    mMax = max(np.abs(mAudio[\"STFT\"][plotBin,:]))\n",
    "    postDist = getDistance(mDynamicResponse, rDynamicReponse, mMax, rMax)\n",
    "    print(\"matched distance:  \",postDist)\n",
    "    print(\"difference: \",preDist/postDist)\n",
    "    plotDynamics(mAudio, rAudio, dynamicBins, plotBin, matched=True)\n",
    "\n",
    "    return mAudio"
   ]
  },
  {
   "cell_type": "code",
   "execution_count": 146,
   "metadata": {},
   "outputs": [],
   "source": [
    "# the objective function upon which the dual annealing operates\n",
    "def objective(x, *params):\n",
    "    tSlice, rSlice, dynamicBins = params\n",
    "\n",
    "    mSlice = warp(tSlice, x)\n",
    "    mDynamicResponse, rDynamicReponse = getDynamicResponse(mSlice,rSlice,dynamicBins)\n",
    "    mMax = max(np.abs(mSlice))\n",
    "    rMax = max(np.abs(rSlice))\n",
    "    \n",
    "    return getDistance(mDynamicResponse,rDynamicReponse,mMax,rMax)\n",
    "\n",
    "# perform dual annealing\n",
    "def findMin(tSlice,rSlice,dynamicBins):\n",
    "    order = 3\n",
    "    searchSize = 100\n",
    "    bounds = list(zip([-searchSize]*order,[searchSize]*order))\n",
    "\n",
    "    sol = optimize.dual_annealing(objective, bounds=bounds, args=(tSlice,rSlice,dynamicBins))\n",
    "    return sol['x']\n",
    "\n",
    "def matchBin(tAudio,rAudio,bin,dynamicBins):\n",
    "    tSlice = tAudio[\"STFT\"][bin,:]\n",
    "    rSlice = rAudio[\"STFT\"][bin,:]\n",
    "    \n",
    "    coeff = findMin(tSlice,rSlice,dynamicBins)\n",
    "    mSlice = warp(tSlice, coeff)\n",
    "\n",
    "    print(\"Unmatched:\", objective([1],tSlice,rSlice,dynamicBins))\n",
    "    print(\"Matched:  \", objective(coeff,tSlice,rSlice,dynamicBins))\n",
    "    plotDynamics(tSlice, rSlice, dynamicBins, matched=False)\n",
    "    plotDynamics(mSlice, rSlice, dynamicBins, matched=True)\n"
   ]
  },
  {
   "cell_type": "code",
   "execution_count": 154,
   "metadata": {},
   "outputs": [
    {
     "name": "stdout",
     "output_type": "stream",
     "text": [
      "Unmatched: 47.83653846153845\n",
      "Matched:   4.9696532029372\n"
     ]
    },
    {
     "data": {
      "image/png": "[encoded data removed]",
      "text/plain": [
       "<Figure size 1000x300 with 6 Axes>"
      ]
     },
     "metadata": {},
     "output_type": "display_data"
    },
    {
     "data": {
      "image/png": "[encoded data removed]",
      "text/plain": [
       "<Figure size 1000x300 with 6 Axes>"
      ]
     },
     "metadata": {},
     "output_type": "display_data"
    }
   ],
   "source": [
    "matchBin(tAudio,rAudio,100,64)"
   ]
  },
  {
   "cell_type": "code",
   "execution_count": null,
   "metadata": {},
   "outputs": [],
   "source": [
    "def bruteForceMatching(tAudio,rAudio,dynamicBins,freqBin, testDistance, steps):\n",
    "    multipliers = np.linspace(0,testDistance,steps)\n",
    "    distances = np.zeros((steps,steps))\n",
    "    \n",
    "    for i in range(steps):\n",
    "        for j in range(steps):\n",
    "            matched = warp(tAudio[\"STFT\"][freqBin,:],[multipliers[j],multipliers[i]])\n",
    "            #matched = multipliers[i]*tAudio[\"STFT\"][freqBin,:]**2 + multipliers[j]*tAudio[\"STFT\"][freqBin,:]\n",
    "            tDynamicResponse, rDynamicReponse = getDynamicResponse(matched,rAudio[\"STFT\"][freqBin,:],dynamicBins)\n",
    "            tMax = max(np.abs(matched))\n",
    "            rMax = max(np.abs(rAudio[\"STFT\"][freqBin,:]))\n",
    "            distances[i,j] = getDistance(tDynamicResponse,rDynamicReponse,tMax,rMax)\n",
    "    \n",
    "    plt.figure(figsize=(7*figScale,5*figScale))\n",
    "\n",
    "    ax = sns.heatmap(distances,xticklabels=multipliers.round(2),yticklabels=multipliers.round(2),cmap=\"magma_r\")\n",
    "    ax.invert_yaxis()\n",
    "    plt.locator_params(nbins=10)\n",
    "    plt.xlabel('x')\n",
    "    plt.ylabel('x^2')\n",
    "    plt.show()"
   ]
  },
  {
   "attachments": {},
   "cell_type": "markdown",
   "metadata": {},
   "source": [
    "<h1>Execution</h1>"
   ]
  },
  {
   "cell_type": "code",
   "execution_count": null,
   "metadata": {},
   "outputs": [],
   "source": [
    "frameSize=2048\n",
    "hopSize=512\n",
    "\n",
    "figScale = 1"
   ]
  },
  {
   "cell_type": "code",
   "execution_count": null,
   "metadata": {},
   "outputs": [
    {
     "name": "stdout",
     "output_type": "stream",
     "text": [
      "unmatched distance: 15.519230769230766\n"
     ]
    },
    {
     "ename": "TypeError",
     "evalue": "plotDynamics() got multiple values for argument 'matched'",
     "output_type": "error",
     "traceback": [
      "\u001b[1;31m---------------------------------------------------------------------------\u001b[0m",
      "\u001b[1;31mTypeError\u001b[0m                                 Traceback (most recent call last)",
      "Cell \u001b[1;32mIn[89], line 4\u001b[0m\n\u001b[0;32m      1\u001b[0m tAudio, rAudio \u001b[39m=\u001b[39m importAudio(target\u001b[39m=\u001b[39m\u001b[39m\"\u001b[39m\u001b[39mtonequiet.wav\u001b[39m\u001b[39m\"\u001b[39m,reference\u001b[39m=\u001b[39m\u001b[39m\"\u001b[39m\u001b[39mtoneloud.wav\u001b[39m\u001b[39m\"\u001b[39m, output\u001b[39m=\u001b[39m\u001b[39mFalse\u001b[39;00m)\n\u001b[0;32m      2\u001b[0m \u001b[39m#tAudio, rAudio = importAudio(target=\"audio_mono.wav\",reference=\"audio2_mono.wav\", output=True)\u001b[39;00m\n\u001b[1;32m----> 4\u001b[0m mAudio \u001b[39m=\u001b[39m dynamicMatching(tAudio,rAudio,dynamicBins\u001b[39m=\u001b[39;49m\u001b[39m64\u001b[39;49m, plotBin\u001b[39m=\u001b[39;49m\u001b[39m100\u001b[39;49m, tempscaler\u001b[39m=\u001b[39;49m[\u001b[39m-\u001b[39;49m\u001b[39m9.113e+00\u001b[39;49m,\u001b[39m9.998e+00\u001b[39;49m,\u001b[39m9.538e+00\u001b[39;49m,\u001b[39m-\u001b[39;49m\u001b[39m6.070e+00\u001b[39;49m,\u001b[39m-\u001b[39;49m\u001b[39m8.379e+00\u001b[39;49m])\n\u001b[0;32m      5\u001b[0m \u001b[39m#bruteForceMatching(tAudio,rAudio,dynamicBins=4, freqBin=100, testDistance=10, steps=100)\u001b[39;00m\n\u001b[0;32m      6\u001b[0m \n\u001b[0;32m      7\u001b[0m \u001b[39m#mAudio = EQMatching(tAudio,rAudio,smoothing=100, plot=True)\u001b[39;00m\n\u001b[1;32m   (...)\u001b[0m\n\u001b[0;32m     10\u001b[0m \n\u001b[0;32m     11\u001b[0m \u001b[39m#exportAudio(tAudio, mAudio, rAudio)\u001b[39;00m\n",
      "Cell \u001b[1;32mIn[39], line 26\u001b[0m, in \u001b[0;36mdynamicMatching\u001b[1;34m(tAudio, rAudio, dynamicBins, plotBin, tempscaler)\u001b[0m\n\u001b[0;32m     24\u001b[0m preDist \u001b[39m=\u001b[39m getDistance(tDynamicResponse, rDynamicReponse,tMax,rMax)\n\u001b[0;32m     25\u001b[0m \u001b[39mprint\u001b[39m(\u001b[39m\"\u001b[39m\u001b[39munmatched distance:\u001b[39m\u001b[39m\"\u001b[39m,preDist)\n\u001b[1;32m---> 26\u001b[0m plotDynamics(tAudio, rAudio, dynamicBins, plotBin, matched\u001b[39m=\u001b[39;49m\u001b[39mFalse\u001b[39;49;00m)\n\u001b[0;32m     28\u001b[0m \u001b[39m# Matching happens on a copied version of the target, to ensure the original target is preserved\u001b[39;00m\n\u001b[0;32m     29\u001b[0m mAudio \u001b[39m=\u001b[39m copy\u001b[39m.\u001b[39mdeepcopy(tAudio)\n",
      "\u001b[1;31mTypeError\u001b[0m: plotDynamics() got multiple values for argument 'matched'"
     ]
    }
   ],
   "source": [
    "tAudio, rAudio = importAudio(target=\"tonequiet.wav\",reference=\"toneloud.wav\", output=False)\n",
    "#tAudio, rAudio = importAudio(target=\"audio_mono.wav\",reference=\"audio2_mono.wav\", output=True)\n",
    "\n",
    "mAudio = dynamicMatching(tAudio,rAudio,dynamicBins=64, plotBin=100, tempscaler=[-9.113e+00,9.998e+00,9.538e+00,-6.070e+00,-8.379e+00])\n",
    "#bruteForceMatching(tAudio,rAudio,dynamicBins=4, freqBin=100, testDistance=10, steps=100)\n",
    "\n",
    "#mAudio = EQMatching(tAudio,rAudio,smoothing=100, plot=True)\n",
    "\n",
    "#plotSpectrogram(tAudio, mAudio, rAudio)\n",
    "\n",
    "#exportAudio(tAudio, mAudio, rAudio)"
   ]
  },
  {
   "cell_type": "code",
   "execution_count": null,
   "metadata": {},
   "outputs": [
    {
     "ename": "NameError",
     "evalue": "name 'optimize' is not defined",
     "output_type": "error",
     "traceback": [
      "\u001b[1;31m---------------------------------------------------------------------------\u001b[0m",
      "\u001b[1;31mNameError\u001b[0m                                 Traceback (most recent call last)",
      "Cell \u001b[1;32mIn[1], line 18\u001b[0m\n\u001b[0;32m     15\u001b[0m searchSize \u001b[39m=\u001b[39m \u001b[39m10\u001b[39m\n\u001b[0;32m     16\u001b[0m bounds \u001b[39m=\u001b[39m \u001b[39mlist\u001b[39m(\u001b[39mzip\u001b[39m([\u001b[39m-\u001b[39msearchSize]\u001b[39m*\u001b[39morder,[searchSize]\u001b[39m*\u001b[39morder))\n\u001b[1;32m---> 18\u001b[0m sol \u001b[39m=\u001b[39m optimize\u001b[39m.\u001b[39mdual_annealing(objective, bounds\u001b[39m=\u001b[39mbounds)\n",
      "\u001b[1;31mNameError\u001b[0m: name 'optimize' is not defined"
     ]
    }
   ],
   "source": [
    "def objective(x, *params):\n",
    "    tSlice = tAudio[\"STFT\"][100,:]\n",
    "    rSlice = rAudio[\"STFT\"][100,:]\n",
    "    dynamicBins = 64\n",
    "    #tSlice, rSlice, dynamicBins = params\n",
    "\n",
    "    mSlice = warp(tSlice, x)\n",
    "    mDynamicResponse, rDynamicReponse = getDynamicResponse(mSlice,rSlice,dynamicBins)\n",
    "    mMax = max(np.abs(mSlice))\n",
    "    rMax = max(np.abs(rSlice))\n",
    "    \n",
    "    return getDistance(mDynamicResponse,rDynamicReponse,mMax,rMax)\n",
    "\n",
    "order = 5\n",
    "searchSize = 10\n",
    "bounds = list(zip([-searchSize]*order,[searchSize]*order))\n",
    "\n",
    "sol = optimize.dual_annealing(objective, bounds=bounds)"
   ]
  },
  {
   "cell_type": "code",
   "execution_count": null,
   "metadata": {},
   "outputs": [
    {
     "data": {
      "text/plain": [
       " message: ['Maximum number of iteration reached']\n",
       " success: True\n",
       "  status: 0\n",
       "     fun: 9.100637390063358\n",
       "       x: [-9.113e+00  9.998e+00  9.538e+00 -6.070e+00 -8.379e+00]\n",
       "     nit: 1000\n",
       "    nfev: 10229\n",
       "    njev: 38\n",
       "    nhev: 0"
      ]
     },
     "execution_count": 34,
     "metadata": {},
     "output_type": "execute_result"
    }
   ],
   "source": [
    "sol"
   ]
  }
 ],
 "metadata": {
  "kernelspec": {
   "display_name": "Python 3",
   "language": "python",
   "name": "python3"
  },
  "language_info": {
   "codemirror_mode": {
    "name": "ipython",
    "version": 3
   },
   "file_extension": ".py",
   "mimetype": "text/x-python",
   "name": "python",
   "nbconvert_exporter": "python",
   "pygments_lexer": "ipython3",
   "version": "3.10.10"
  },
  "orig_nbformat": 4,
  "vscode": {
   "interpreter": {
    "hash": "dcc04ecbf5385bb67fc37f20ebe14ba7c4f212e48d3a09cb0adf33db1c04f485"
   }
  }
 },
 "nbformat": 4,
 "nbformat_minor": 2
}
